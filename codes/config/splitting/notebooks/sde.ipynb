{
 "cells": [
  {
   "attachments": {},
   "cell_type": "markdown",
   "metadata": {},
   "source": [
    "# Overview\n",
    "This notebook is aimed at inspecting the properties of the sde. "
   ]
  },
  {
   "cell_type": "code",
   "execution_count": 2,
   "metadata": {},
   "outputs": [],
   "source": [
    "import sys\n",
    "sys.path.append('../../..')"
   ]
  },
  {
   "cell_type": "code",
   "execution_count": 3,
   "metadata": {},
   "outputs": [
    {
     "name": "stderr",
     "output_type": "stream",
     "text": [
      "/home/ashesh.ashesh/miniconda3/envs/refusion/lib/python3.10/site-packages/tqdm/auto.py:21: TqdmWarning: IProgress not found. Please update jupyter and ipywidgets. See https://ipywidgets.readthedocs.io/en/stable/user_install.html\n",
      "  from .autonotebook import tqdm as notebook_tqdm\n"
     ]
    },
    {
     "name": "stdout",
     "output_type": "stream",
     "text": [
      "export CUDA_VISIBLE_DEVICES=0\n",
      "OrderedDict([('optimizer', 'Lion'), ('name', 'Train_Dataset'), ('mode', 'LQGT_splitting'), ('fpath', '/group/jug/ashesh/data/microscopy/OptiMEM100x014.tif'), ('downscale_factor', 6), ('use_shuffle', True), ('n_workers', 4), ('batch_size', 16), ('GT_size', 128), ('LR_size', 128), ('color', None), ('channel_1', 2), ('channel_2', 3), ('target_channel_idx', 1), ('ch1_weight', 0.5), ('datasplit_type', 'train'), ('enable_rotation_aug', True), ('enable_random_cropping', True), ('clip_percentile', 0.995), ('channelwise_quantile', False), ('background_quantile', 0.0), ('clip_background_noise_to_zero', False), ('skip_normalization_using_mean', False), ('val_fraction', 0.1), ('test_fraction', 0.1), ('empty_patch_max_val_threshold', 0.0)])\n",
      "OrderedDict([('datasplit_type', 'val'), ('optimizer', 'Lion'), ('name', 'Val_Dataset'), ('mode', 'LQGT_splitting'), ('fpath', '/group/jug/ashesh/data/microscopy/OptiMEM100x014.tif'), ('downscale_factor', 6), ('use_shuffle', False), ('n_workers', 4), ('batch_size', 16), ('GT_size', 128), ('LR_size', 128), ('color', None), ('channel_1', 2), ('channel_2', 3), ('target_channel_idx', 1), ('ch1_weight', 0.5), ('enable_rotation_aug', False), ('enable_random_cropping', False), ('clip_percentile', 0.995), ('channelwise_quantile', False), ('background_quantile', 0.0), ('clip_background_noise_to_zero', False), ('skip_normalization_using_mean', False), ('val_fraction', 0.1), ('test_fraction', 0.1), ('empty_patch_max_val_threshold', 0.0)])\n",
      "\n",
      "Root directory /home/ashesh.ashesh/code/image-restoration-sde/experiments/splitting/refusion_splitting/2306/50\n",
      "\n"
     ]
    }
   ],
   "source": [
    "import utils as util\n",
    "from data.splitting_dataset import SplittingDataset\n",
    "import config.splitting.options as option\n",
    "\n",
    "config_file = '/home/ashesh.ashesh/code/image-restoration-sde/codes/config/splitting/options/train/refusion.yml'\n",
    "opt = option.parse(config_file, is_train=True)\n",
    "\n",
    "# convert to NoneDict, which returns None for missing keys\n",
    "opt = option.dict_to_nonedict(opt)\n"
   ]
  },
  {
   "cell_type": "code",
   "execution_count": 4,
   "metadata": {},
   "outputs": [
    {
     "name": "stdout",
     "output_type": "stream",
     "text": [
      "cosine schedule\n"
     ]
    }
   ],
   "source": [
    "sde = util.IRSDE(max_sigma=opt[\"sde\"][\"max_sigma\"], T=opt[\"sde\"][\"T\"], schedule=opt[\"sde\"][\"schedule\"], eps=opt[\"sde\"][\"eps\"])"
   ]
  },
  {
   "cell_type": "code",
   "execution_count": null,
   "metadata": {},
   "outputs": [],
   "source": []
  }
 ],
 "metadata": {
  "kernelspec": {
   "display_name": "refusion",
   "language": "python",
   "name": "python3"
  },
  "language_info": {
   "codemirror_mode": {
    "name": "ipython",
    "version": 3
   },
   "file_extension": ".py",
   "mimetype": "text/x-python",
   "name": "python",
   "nbconvert_exporter": "python",
   "pygments_lexer": "ipython3",
   "version": "3.10.11"
  },
  "orig_nbformat": 4,
  "vscode": {
   "interpreter": {
    "hash": "420c20ddc543d2d648095648f594171bca43c0b64a8567ad88514d9d789a8ff5"
   }
  }
 },
 "nbformat": 4,
 "nbformat_minor": 2
}
